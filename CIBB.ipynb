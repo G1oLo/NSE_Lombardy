{
 "cells": [
  {
   "cell_type": "markdown",
   "id": "a3e6a21d-0e22-4196-8751-88ee461a86f9",
   "metadata": {},
   "source": [
    "# Libraries"
   ]
  },
  {
   "cell_type": "code",
   "execution_count": null,
   "id": "807aaa66-d1ac-4b75-9d32-6eafc8c103b5",
   "metadata": {},
   "outputs": [],
   "source": [
    "import polars as pl\n",
    "import pandas as pd\n",
    "import seaborn as sns\n",
    "from tqdm import tqdm\n",
    "from sklearn.metrics import roc_curve, auc, roc_auc_score\n",
    "from sklearn.metrics import (confusion_matrix, accuracy_score, precision_score, recall_score, f1_score)\n",
    "import matplotlib.pyplot as plt\n",
    "from sklearn.datasets import make_classification\n",
    "from sklearn.model_selection import train_test_split\n",
    "from sklearn.ensemble import RandomForestClassifier\n",
    "from sklearn.metrics import balanced_accuracy_score\n",
    "from sklearn.model_selection import GridSearchCV\n",
    "from sklearn.ensemble import AdaBoost\n",
    "from keras.models import Sequential\n",
    "from keras.layers import Dense"
   ]
  },
  {
   "cell_type": "code",
   "execution_count": null,
   "id": "8e7afe5b-39fb-4658-b24f-29022a667db5",
   "metadata": {},
   "outputs": [],
   "source": [
    "from sklearn.tree import DecisionTreeClassifier\n",
    "from sklearn.ensemble import RandomForestClassifier\n",
    "from sklearn.naive_bayes import GaussianNB"
   ]
  },
  {
   "cell_type": "markdown",
   "id": "4b42cd56-eb35-4acc-9660-2f32f24fc86c",
   "metadata": {},
   "source": [
    "# Dataset"
   ]
  },
  {
   "cell_type": "code",
   "execution_count": null,
   "id": "e9dcf195-318f-4194-8ae0-d5a9e486493a",
   "metadata": {},
   "outputs": [],
   "source": [
    "dataset = pl.read"
   ]
  },
  {
   "cell_type": "code",
   "execution_count": null,
   "id": "4de32d47-762c-4aa1-bca1-9fc14e6cf52a",
   "metadata": {},
   "outputs": [],
   "source": []
  },
  {
   "cell_type": "markdown",
   "id": "f722290d-2c53-49ea-aa65-ae9fbd0ae458",
   "metadata": {},
   "source": [
    "# Data Preparation"
   ]
  },
  {
   "cell_type": "code",
   "execution_count": null,
   "id": "04be7a0f-1133-43d9-83a2-f9c9ae24ad90",
   "metadata": {},
   "outputs": [],
   "source": []
  },
  {
   "cell_type": "code",
   "execution_count": null,
   "id": "e20d4390-b813-4b3b-9450-d44eada1a708",
   "metadata": {},
   "outputs": [],
   "source": []
  },
  {
   "cell_type": "markdown",
   "id": "6b3cb4d2-f21b-40da-a244-2050ff2fd112",
   "metadata": {},
   "source": [
    "# Fine-Tuning"
   ]
  },
  {
   "cell_type": "markdown",
   "id": "3d06585b-f76a-412e-982b-fab4b9ede833",
   "metadata": {},
   "source": [
    "## GridSearch"
   ]
  },
  {
   "cell_type": "code",
   "execution_count": null,
   "id": "77c926ee-c504-442f-8c97-0e1aa4bbc1dd",
   "metadata": {},
   "outputs": [],
   "source": [
    "#parametri su cui fare GridSeacrh\n",
    "\n",
    "names = [\"Random Forrest\", \"Decision Tree\", 'Catboost', 'AdaBoost ']\n",
    "\n",
    "# Classificatori\n",
    "classifiers = [\n",
    "    RandomForestClassifier(n_estimators=100, criterion='entropy'),\n",
    "    DecisionTreeClassifier(),\n",
    "    LogisticRegression(random_state=0),\n",
    "    CatBoostClassifier(iterations=500, learning_rate=0.1, verbose=0, auto_class_weights='Balanced')    \n",
    "]\n",
    "\n",
    "# Parametri possibili\n",
    "param_grids = {\n",
    "    \"Random Forrest\": {\n",
    "        'n_estimators': [10, 30, 50],\n",
    "        'criterion': ['entropy', 'gini', 'log_loss'],\n",
    "        \"random_state\": [42],\n",
    "        \"class_weight\": ['balanced', 'None']\n",
    "    },\n",
    "    \"Decision Tree\": {\n",
    "        \"max_depth\": [4, 5, 7,8],\n",
    "        \"min_samples_split\": [2, 3],\n",
    "        \"min_samples_leaf\": [1, 2, 4],\n",
    "        \"criterion\": ['gini', 'entropy', 'log_loss'],\n",
    "        \"class_weight\": ['balanced', 'None']\n",
    "    },\n",
    "    \n",
    "    \"Catboost\": {\n",
    "        'iterations': [400, 800],              \n",
    "        'learning_rate': [0.05, 0.1],          \n",
    "        'depth': [4, 8],                   \n",
    "        'l2_leaf_reg': [1, 5],              \n",
    "        'bagging_temperature': [0.1, 1, 8],       \n",
    "        'auto_class_weights': ['Balanced']    \n",
    "    },\n",
    "\n",
    "    \"AdaBoost\": {\n",
    "        \"n_estimators\": [],\n",
    "        \"learning_rate\": [],\n",
    "        \"random_state\": []\n",
    "    }\n",
    "    \n",
    "}"
   ]
  },
  {
   "cell_type": "code",
   "execution_count": null,
   "id": "10c0487b-f6de-4e95-a945-146fd1bf74d7",
   "metadata": {},
   "outputs": [],
   "source": [
    "mods={}\n",
    "for i, (name, clf) in tqdm(enumerate(zip(names, classifiers))):\n",
    "    grid = GridSearchCV(clf, param_grid=param_grids[name], cv=5, scoring='f1_macro') #cv=integer, to specify the number of folds in a (Stratified)KFold\n",
    "    grid.fit(x_train, y_train_)\n",
    "    mods[name]=grid\n",
    "  # Display results\n",
    "    print(f\"Best parameters for {name}: {grid.best_params_}\")\n",
    "    print(f\"Best cross-validated micro for {name}: {grid.best_score_:.2f}\\n\")"
   ]
  },
  {
   "cell_type": "markdown",
   "id": "0c6ab7cb-c007-4235-870a-ea14faad84ef",
   "metadata": {},
   "source": [
    "## Randomized Search"
   ]
  },
  {
   "cell_type": "code",
   "execution_count": null,
   "id": "f2f697f9-af60-4dbb-9db2-84a800f114b5",
   "metadata": {},
   "outputs": [],
   "source": [
    "#parametri su cui fare RandomizedSearch"
   ]
  },
  {
   "cell_type": "code",
   "execution_count": null,
   "id": "8fa1f9d7-29af-4e49-8616-133dabe92dee",
   "metadata": {},
   "outputs": [],
   "source": [
    "class sklearn.model_selection.RandomizedSearchCV(estimator, param_distributions, *, n_iter=10, scoring=None, n_jobs=None, refit=True, cv=None, verbose=0, pre_dispatch='2*n_jobs', random_state=None, error_score=nan, return_train_score=False)"
   ]
  },
  {
   "cell_type": "code",
   "execution_count": null,
   "id": "7e51a717-8570-4236-be8f-f9ae474059e3",
   "metadata": {},
   "outputs": [],
   "source": []
  },
  {
   "cell_type": "markdown",
   "id": "fbce355b-b812-4784-b736-e4f1dedf08d6",
   "metadata": {},
   "source": [
    "# Training"
   ]
  },
  {
   "cell_type": "code",
   "execution_count": null,
   "id": "9fc58c72-0ad9-49c7-a827-d847a51ac8d3",
   "metadata": {},
   "outputs": [],
   "source": [
    "# feature selction? "
   ]
  },
  {
   "cell_type": "code",
   "execution_count": null,
   "id": "6b66962b-15dc-4808-9e0e-c291517a1826",
   "metadata": {},
   "outputs": [],
   "source": []
  },
  {
   "cell_type": "markdown",
   "id": "99df9d6f-e8e9-4e84-aa4d-de0a2507d4dc",
   "metadata": {},
   "source": [
    "# Test"
   ]
  },
  {
   "cell_type": "code",
   "execution_count": null,
   "id": "0195077b-19b8-4af7-8a3e-77dd6ca572a5",
   "metadata": {},
   "outputs": [],
   "source": [
    "results = {}  # To store evaluation metrics for each model\n",
    "\n",
    "for i, (name, clf) in tqdm(enumerate(zip(names, Best_Classifiers))):\n",
    "    x_train_selected = x_train[selected_features_ig]\n",
    "    x_test_selected = x_test[selected_features_ig]\n",
    "\n",
    "    # Fit the model again using only the selected features (if necessary)\n",
    "    model = clf.fit(x_train_selected, y_train_)\n",
    "    test_predict = model.predict(x_test_selected)\n",
    "\n",
    "    # Calculate metrics\n",
    "    f1 = f1_score(y_test_, test_predict)\n",
    "    accuracy = model.score(x_test_selected, y_test_)\n",
    "    precision = precision_score(y_test_, test_predict, average='macro')\n",
    "    conf_matrix = confusion_matrix(y_test_, test_predict)\n",
    "\n",
    "    # Store metrics in results dictionary\n",
    "    results[name] = {\n",
    "        'F1 Score': f1_score,\n",
    "        'Accuracy': accuracy,\n",
    "        'Precision': precision,\n",
    "        'Confusion Matrix': conf_matrix,\n",
    "    }\n",
    "\n",
    "    \n",
    "    # Print metrics\n",
    "    print('Model:', name, ' F1:', f1, ' Accuracy:', accuracy, ' Precision:', precision)\n",
    "\n",
    "    tn, fp, fn, tp = conf_matrix.ravel()\n",
    "    # Calcola TPR e TNR\n",
    "    tpr = tp / (tp + fn) if (tp + fn) > 0 else 0\n",
    "    tnr = tn / (tn + fp) if (tn + fp) > 0 else 0\n",
    "\n",
    "    # Calcola la balanced accuracy\n",
    "    balanced_accuracy = (tpr + tnr) / 2\n",
    "    print(\"Balanced Accuracy \", balanced_accuracy)\n",
    "\n",
    "    # If it's the second model (index 1), plot the decision tree\n",
    "    if i == 1:\n",
    "        plt.figure(figsize=(20, 10))  # Set a larger figure for better visualization\n",
    "        plot_tree(clf, feature_names=selected_features_ig, class_names=['0', '1'], filled=True)\n",
    "        plt.savefig('Decision Tree schema_ig.png')\n",
    "        plt.show()\n",
    "\n",
    "    # Confusion matrix visualization\n",
    "    plt.figure(figsize=(8, 6))\n",
    "    sns.heatmap(conf_matrix, annot=True, fmt=\"d\", cmap=\"Greens\", cbar=False)\n",
    "    plt.title(f'Confusion Matrix for {name}')\n",
    "    plt.xlabel('Predicted Label')\n",
    "    plt.ylabel('True Label')\n",
    "    plt.savefig(f\"Confusion Matrix_{name}_IG.png\")\n",
    "    plt.show()"
   ]
  }
 ],
 "metadata": {
  "kernelspec": {
   "display_name": "Python 3 (ipykernel)",
   "language": "python",
   "name": "python3"
  },
  "language_info": {
   "codemirror_mode": {
    "name": "ipython",
    "version": 3
   },
   "file_extension": ".py",
   "mimetype": "text/x-python",
   "name": "python",
   "nbconvert_exporter": "python",
   "pygments_lexer": "ipython3",
   "version": "3.12.4"
  }
 },
 "nbformat": 4,
 "nbformat_minor": 5
}
